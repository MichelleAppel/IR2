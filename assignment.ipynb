{
 "cells": [
  {
   "cell_type": "markdown",
   "metadata": {},
   "source": [
    "# Information Retrieval 1#\n",
    "## Assignment 2: Retrieval models [100 points] ##"
   ]
  },
  {
   "cell_type": "markdown",
   "metadata": {},
   "source": [
    "In this assignment you will get familiar with basic and advanced information retrieval concepts. You will implement different information retrieval ranking models and evaluate their performance.\n",
    "\n",
    "We provide you with a Indri index. To query the index, you'll use a Python package ([pyndri](https://github.com/cvangysel/pyndri)) that allows easy access to the underlying document statistics.\n",
    "\n",
    "For evaluation you'll use the [TREC Eval](https://github.com/usnistgov/trec_eval) utility, provided by the National Institute of Standards and Technology of the United States. TREC Eval is the de facto standard way to compute Information Retrieval measures and is frequently referenced in scientific papers.\n",
    "\n",
    "This is a **groups-of-three assignment**, the deadline is **Wednesday, January 31st**. Code quality, informative comments and convincing analysis of the results will be considered when grading. Submission should be done through blackboard, questions can be asked on the course [Piazza](piazza.com/university_of_amsterdam/spring2018/52041inr6y/home).\n",
    "\n",
    "### Technicalities (must-read!) ###\n",
    "\n",
    "The assignment directory is organized as follows:\n",
    "   * `./assignment.ipynb` (this file): the description of the assignment.\n",
    "   * `./index/`: the index we prepared for you.\n",
    "   * `./ap_88_90/`: directory with ground-truth and evaluation sets:\n",
    "      * `qrel_test`: test query relevance collection (**test set**).\n",
    "      * `qrel_validation`: validation query relevance collection (**validation set**).\n",
    "      * `topics_title`: semicolon-separated file with query identifiers and terms.\n",
    "\n",
    "You will need the following software packages (tested with Python 3.5 inside [Anaconda](https://conda.io/docs/user-guide/install/index.html)):\n",
    "   * Python 3.5 and Jupyter\n",
    "   * Indri + Pyndri (Follow the installation instructions [here](https://github.com/nickvosk/pyndri/blob/master/README.md))\n",
    "   * gensim [link](https://radimrehurek.com/gensim/install.html)\n",
    "   * TREC Eval [link](https://github.com/usnistgov/trec_eval)"
   ]
  },
  {
   "cell_type": "markdown",
   "metadata": {},
   "source": [
    "### TREC Eval primer ###\n",
    "The TREC Eval utility can be downloaded and compiled as follows:\n",
    "\n",
    "    git clone https://github.com/usnistgov/trec_eval.git\n",
    "    cd trec_eval\n",
    "    make\n",
    "\n",
    "TREC Eval computes evaluation scores given two files: ground-truth information regarding relevant documents, named *query relevance* or *qrel*, and a ranking of documents for a set of queries, referred to as a *run*. The *qrel* will be supplied by us and should not be changed. For every retrieval model (or combinations thereof) you will generate a run of the top-1000 documents for every query. The format of the *run* file is as follows:\n",
    "\n",
    "    $query_identifier Q0 $document_identifier $rank_of_document_for_query $query_document_similarity $run_identifier\n",
    "    \n",
    "where\n",
    "   * `$query_identifier` is the unique identifier corresponding to a query (usually this follows a sequential numbering).\n",
    "   * `Q0` is a legacy field that you can ignore.\n",
    "   * `$document_identifier` corresponds to the unique identifier of a document (e.g., APXXXXXXX where AP denotes the collection and the Xs correspond to a unique numerical identifier).\n",
    "   * `$rank_of_document_for_query` denotes the rank of the document for the particular query. This field is ignored by TREC Eval and is only maintained for legacy support. The ranks are computed by TREC Eval itself using the `$query_document_similarity` field (see next). However, it remains good practice to correctly compute this field.\n",
    "   * `$query_document_similarity` is a score indicating the similarity between query and document where a higher score denotes greater similarity.\n",
    "   * `$run_identifier` is an identifier of the run. This field is for your own convenience and has no purpose beyond bookkeeping.\n",
    "   \n",
    "For example, say we have two queries: `Q1` and `Q2` and we rank three documents (`DOC1`, `DOC2`, `DOC3`). For query `Q1`, we find the following similarity scores `score(Q1, DOC1) = 1.0`, `score(Q1, DOC2) = 0.5`, `score(Q1, DOC3) = 0.75`; and for `Q2`: `score(Q2, DOC1) = -0.1`, `score(Q2, DOC2) = 1.25`, `score(Q1, DOC3) = 0.0`. We can generate run using the following snippet:"
   ]
  },
  {
   "cell_type": "code",
   "execution_count": 1,
   "metadata": {
    "collapsed": false,
    "scrolled": false
   },
   "outputs": [
    {
     "name": "stdout",
     "output_type": "stream",
     "text": [
      "Q2 Q0 DOC2 1 1.25 example\n",
      "Q2 Q0 DOC3 2 0.0 example\n",
      "Q2 Q0 DOC1 3 -0.1 example\n",
      "Q1 Q0 DOC1 1 1.0 example\n",
      "Q1 Q0 DOC3 2 0.75 example\n",
      "Q1 Q0 DOC2 3 0.5 example\n"
     ]
    }
   ],
   "source": [
    "import logging\n",
    "import sys\n",
    "import os\n",
    "\n",
    "def write_run(model_name, data, out_f,\n",
    "              max_objects_per_query=sys.maxsize,\n",
    "              skip_sorting=False):\n",
    "    \"\"\"\n",
    "    Write a run to an output file.\n",
    "    Parameters:\n",
    "        - model_name: identifier of run.\n",
    "        - data: dictionary mapping topic_id to object_assesments;\n",
    "            object_assesments is an iterable (list or tuple) of\n",
    "            (relevance, object_id) pairs.\n",
    "            The object_assesments iterable is sorted by decreasing order.\n",
    "        - out_f: output file stream.\n",
    "        - max_objects_per_query: cut-off for number of objects per query.\n",
    "    \"\"\"\n",
    "    for subject_id, object_assesments in data.items():\n",
    "        if not object_assesments:\n",
    "            logging.warning('Received empty ranking for %s; ignoring.',\n",
    "                            subject_id)\n",
    "\n",
    "            continue\n",
    "\n",
    "        # Probe types, to make sure everything goes alright.\n",
    "        # assert isinstance(object_assesments[0][0], float) or \\\n",
    "        #     isinstance(object_assesments[0][0], np.float32)\n",
    "        assert isinstance(object_assesments[0][1], str) or \\\n",
    "            isinstance(object_assesments[0][1], bytes)\n",
    "\n",
    "        if not skip_sorting:\n",
    "            object_assesments = sorted(object_assesments, reverse=True)\n",
    "\n",
    "        if max_objects_per_query < sys.maxsize:\n",
    "            object_assesments = object_assesments[:max_objects_per_query]\n",
    "\n",
    "        if isinstance(subject_id, bytes):\n",
    "            subject_id = subject_id.decode('utf8')\n",
    "\n",
    "        for rank, (relevance, object_id) in enumerate(object_assesments):\n",
    "            if isinstance(object_id, bytes):\n",
    "                object_id = object_id.decode('utf8')\n",
    "\n",
    "            out_f.write(\n",
    "                '{subject} Q0 {object} {rank} {relevance} '\n",
    "                '{model_name}\\n'.format(\n",
    "                    subject=subject_id,\n",
    "                    object=object_id,\n",
    "                    rank=rank + 1,\n",
    "                    relevance=relevance,\n",
    "                    model_name=model_name))\n",
    "            \n",
    "# The following writes the run to standard output.\n",
    "# In your code, you should write the runs to local\n",
    "# storage in order to pass them to trec_eval.\n",
    "write_run(\n",
    "    model_name='example',\n",
    "    data={\n",
    "        'Q1': ((1.0, 'DOC1'), (0.5, 'DOC2'), (0.75, 'DOC3')),\n",
    "        'Q2': ((-0.1, 'DOC1'), (1.25, 'DOC2'), (0.0, 'DOC3')),\n",
    "    },\n",
    "    out_f=sys.stdout,\n",
    "    max_objects_per_query=1000)"
   ]
  },
  {
   "cell_type": "markdown",
   "metadata": {},
   "source": [
    "Now, imagine that we know that `DOC1` is relevant and `DOC3` is non-relevant for `Q1`. In addition, for `Q2` we only know of the relevance of `DOC3`. The query relevance file looks like:\n",
    "\n",
    "    Q1 0 DOC1 1\n",
    "    Q1 0 DOC3 0\n",
    "    Q2 0 DOC3 1\n",
    "    \n",
    "We store the run and qrel in files `example.run` and `example.qrel` respectively on disk. We can now use TREC Eval to compute evaluation measures. In this example, we're only interested in Mean Average Precision and we'll only show this below for brevity. However, TREC Eval outputs much more information such as NDCG, recall, precision, etc.\n",
    "\n",
    "    $ trec_eval -m all_trec -q example.qrel example.run | grep -E \"^map\\s\"\n",
    "    > map                   \tQ1\t1.0000\n",
    "    > map                   \tQ2\t0.5000\n",
    "    > map                   \tall\t0.7500\n",
    "    \n",
    "Now that we've discussed the output format of rankings and how you can compute evaluation measures from these rankings, we'll now proceed with an overview of the indexing framework you'll use."
   ]
  },
  {
   "cell_type": "markdown",
   "metadata": {},
   "source": [
    "### Pyndri primer ###\n",
    "For this assignment you will use [Pyndri](https://github.com/cvangysel/pyndri) [[1](https://arxiv.org/abs/1701.00749)], a python interface for [Indri](https://www.lemurproject.org/indri.php). We have indexed the document collection and you can query the index using Pyndri. We will start by giving you some examples of what Pyndri can do:\n",
    "\n",
    "First we read the document collection index with Pyndri:"
   ]
  },
  {
   "cell_type": "code",
   "execution_count": 2,
   "metadata": {
    "collapsed": true,
    "scrolled": true
   },
   "outputs": [],
   "source": [
    "import sys\n",
    "\n",
    "sys.path.append('/usr/local/lib/python3.5/dist-packages')\n",
    "\n",
    "import pyndri\n",
    "\n",
    "index = pyndri.Index('index/')"
   ]
  },
  {
   "cell_type": "markdown",
   "metadata": {},
   "source": [
    "The loaded index can be used to access a collection of documents in an easy manner. We'll give you some examples to get some idea of what it can do, it is up to you to figure out how to use it for the remainder of the assignment.\n",
    "\n",
    "First let's look at the number of documents, since Pyndri indexes the documents using incremental identifiers we can simply take the lowest index and the maximum document and consider the difference:"
   ]
  },
  {
   "cell_type": "code",
   "execution_count": 3,
   "metadata": {
    "collapsed": false
   },
   "outputs": [
    {
     "name": "stdout",
     "output_type": "stream",
     "text": [
      "There are 164597 documents in this collection.\n"
     ]
    }
   ],
   "source": [
    "print(\"There are %d documents in this collection.\" % (index.maximum_document() - index.document_base()))"
   ]
  },
  {
   "cell_type": "markdown",
   "metadata": {},
   "source": [
    "Let's take the first document out of the collection and take a look at it:"
   ]
  },
  {
   "cell_type": "code",
   "execution_count": 4,
   "metadata": {
    "collapsed": false,
    "scrolled": true
   },
   "outputs": [
    {
     "name": "stdout",
     "output_type": "stream",
     "text": [
      "('AP890425-0001', (1360, 192, 363, 0, 880, 0, 200, 0, 894, 412, 92160, 3, 192, 0, 363, 34, 1441, 0, 174134, 0, 200, 0, 894, 412, 2652, 0, 810, 107, 49, 4903, 420, 0, 1, 48, 35, 489, 0, 35, 687, 192, 243, 0, 249311, 1877, 0, 1651, 1174, 0, 2701, 117, 412, 0, 810, 391, 245233, 1225, 5838, 16, 0, 233156, 3496, 0, 393, 17, 0, 2435, 4819, 930, 0, 0, 200, 0, 894, 0, 22, 398, 145, 0, 3, 271, 115, 0, 1176, 2777, 292, 0, 725, 192, 0, 0, 50046, 0, 1901, 1130, 0, 192, 0, 408, 0, 243779, 0, 0, 553, 192, 0, 363, 0, 3747, 0, 0, 0, 0, 1176, 0, 1239, 0, 0, 1115, 17, 0, 0, 585, 192, 1963, 0, 0, 412, 54356, 0, 773, 0, 0, 0, 192, 0, 0, 1130, 0, 363, 0, 545, 192, 0, 1174, 1901, 1130, 0, 4, 398, 145, 39, 0, 577, 0, 355, 0, 491, 0, 6025, 0, 0, 193156, 88, 34, 437, 0, 0, 1852, 0, 828, 0, 1588, 0, 0, 0, 2615, 0, 0, 107, 49, 420, 0, 0, 190, 7, 714, 2701, 0, 237, 192, 157, 0, 412, 34, 437, 0, 0, 200, 6025, 26, 0, 0, 0, 0, 363, 0, 22, 398, 145, 0, 200, 638, 126222, 6018, 0, 880, 0, 0, 161, 0, 0, 319, 894, 2701, 0, 0, 0, 301, 1200, 0, 363, 251, 430, 0, 207, 0, 76143, 1773, 0, 243779, 0, 0, 72030, 0, 55, 4903, 420, 0, 2701, 1496, 420, 0, 25480, 0, 420, 0, 0, 200, 0, 392, 2949, 0, 1738, 0, 61, 0, 71, 79, 0, 200, 903, 0, 188, 53, 6, 0, 476, 2, 0, 2028, 97, 334, 0, 0, 200, 178, 0, 0, 107, 49, 0, 214, 0, 0, 0, 114, 3866, 1505, 195, 79893, 574, 0, 198, 2160, 0, 192, 0, 420, 0, 384, 0, 2701, 0, 114, 6025, 1549, 74627, 0, 238, 0, 0, 0, 3729, 0, 192, 0, 79893, 0, 0, 729, 3141, 129, 0, 192, 196764, 39, 0, 0, 714, 63, 0, 55, 420, 3356, 0, 0, 117, 412, 0, 0, 79758, 0, 1901, 1130, 4067, 2133, 0, 0, 875, 72, 0, 0, 336, 2789, 0, 0, 25, 920, 121, 104, 0, 3162, 0, 0, 420, 0, 2178, 0, 0, 386, 192545, 159306, 0, 0, 0, 1914, 0, 200, 0, 1794, 0, 2654, 0, 0, 25480, 420, 0, 2795, 0, 0, 229690, 0, 32559, 0, 0, 392, 253919, 0, 0, 0, 0, 379, 0, 0, 114, 0, 553, 10, 0, 1128, 0, 23610, 248, 151, 0, 418, 0, 651, 0, 36, 0, 0, 645, 0, 0, 513, 0, 0, 25480, 420, 34, 0, 0, 0, 15, 0, 3348, 0, 3496, 0, 35, 687, 0, 1, 48, 0, 0, 2803, 0, 0, 714, 1274, 0, 114, 62, 1006, 70268, 1200, 2357, 0, 497, 0, 497, 125, 0, 913, 4647, 3985, 0, 0, 3370, 245233, 0, 0, 687, 0, 4, 1288, 0, 0, 0, 0, 715, 0, 0, 687, 583, 0, 0, 1627, 0, 0, 11, 357, 1359, 0, 849, 0, 0, 1518, 462, 245233, 0, 0, 0, 0, 0, 0, 171, 70268, 0))\n"
     ]
    }
   ],
   "source": [
    "example_document = index.document(index.document_base())\n",
    "print(example_document)"
   ]
  },
  {
   "cell_type": "markdown",
   "metadata": {},
   "source": [
    "Here we see a document consists of two things, a string representing the external document identifier and an integer list representing the identifiers of words that make up the document. Pyndri uses integer representations for words or terms, thus a token_id is an integer that represents a word whereas the token is the actual text of the word/term. Every id has a unique token and vice versa with the exception of stop words: words so common that there are uninformative, all of these receive the zero id.\n",
    "\n",
    "To see what some ids and their matching tokens we take a look at the dictionary of the index:"
   ]
  },
  {
   "cell_type": "code",
   "execution_count": 5,
   "metadata": {
    "collapsed": false
   },
   "outputs": [
    {
     "name": "stdout",
     "output_type": "stream",
     "text": [
      "[(1, 'new'), (2, 'percent'), (3, 'two'), (4, '1'), (5, 'people'), (6, 'million'), (7, '000'), (8, 'government'), (9, 'president'), (10, 'years'), (11, 'state'), (12, '2'), (13, 'states'), (14, 'three'), (15, 'time')]\n"
     ]
    }
   ],
   "source": [
    "token2id, id2token, _ = index.get_dictionary()\n",
    "print(list(id2token.items())[:15])"
   ]
  },
  {
   "cell_type": "markdown",
   "metadata": {},
   "source": [
    "Using this dictionary we can see the tokens for the (non-stop) words in our example document:"
   ]
  },
  {
   "cell_type": "code",
   "execution_count": 6,
   "metadata": {
    "collapsed": false
   },
   "outputs": [
    {
     "name": "stdout",
     "output_type": "stream",
     "text": [
      "['52', 'students', 'arrested', 'takeover', 'university', 'massachusetts', 'building', 'fifty', 'two', 'students', 'arrested', 'tuesday', 'evening', 'occupying', 'university', 'massachusetts', 'building', 'overnight', 'protest', 'defense', 'department', 'funded', 'research', 'new', 'york', 'city', 'thousands', 'city', 'college', 'students', 'got', 'unscheduled', 'holiday', 'demonstrators', 'occupied', 'campus', 'administration', 'building', 'protest', 'possible', 'tuition', 'increases', 'prompting', 'officials', 'suspend', 'classes', '60', 'police', 'riot', 'gear', 'arrived', 'university', 'massachusetts', '5', 'p', 'm', 'two', 'hours', 'later', 'bus', 'drove', 'away', '29', 'students', 'camped', 'memorial', 'hall', 'students', 'charged', 'trespassing', '23', 'students', 'arrested', 'lying', 'bus', 'prevent', 'leaving', 'police', '300', 'students', 'stood', 'building', 'chanting', 'looking', 'students', 'hall', 'arrested', '35', 'students', 'occupied', 'memorial', 'hall', '1', 'p', 'm', 'monday', 'declined', 'offer', 'meet', 'administrators', 'provosts', 'office', 'tuesday', 'morning', 'presented', 'list', 'demands', 'halt', 'defense', 'department', 'research', '25', '000', 'student', 'campus', '40', 'students', 'left', 'building', 'tuesday', 'morning', 'university', 'administrators', 'told', 'arrested', '5', 'p', 'm', 'university', 'spokeswoman', 'jeanne', 'hopkins', 'takeover', 'second', 'western', 'massachusetts', 'campus', 'seven', 'protesters', 'arrested', 'april', '19', 'charges', 'disorderly', 'conduct', 'trespassing', 'demonstrating', 'military', 'funded', 'research', 'campus', 'particularly', 'research', 'anthrax', 'research', 'university', 'non', 'classified', 'researchers', 'make', 'work', 'public', 'university', 'rules', '11', '6', 'million', '22', 'percent', 'grant', 'money', 'received', 'university', 'came', 'defense', 'department', '1988', 'school', 'chancellor', 'joseph', 'd', 'duffey', 'issued', 'statement', 'telling', 'students', 'research', 'continue', 'campus', 'school', 'administrators', 'decide', 'differently', 'policy', 'negotiated', 'students', 'duffey', 'latest', 'occupation', 'began', 'students', 'rallying', 'monday', 'student', 'union', 'military', 'research', 'marched', 'administration', 'building', 'ducked', 'memorial', 'hall', 'en', 'route', 'followed', 'members', 'local', 'chapter', 'american', 'friends', 'service', 'committee', 'contended', 'research', 'dangerous', 'town', 'promotes', 'militarism', 'banned', 'university', 'argued', 'purpose', 'anthrax', 'research', 'peaceful', 'strain', 'bacteria', 'non', 'virulent', 'study', 'school', '23', 'years', 'incident', 'amherst', 'health', 'board', 'scheduled', 'hearing', 'wednesday', 'question', 'safety', 'anthrax', 'research', 'tuesday', 'time', '1969', 'classes', 'city', 'college', 'new', 'york', 'canceled', 'student', 'protests', 'school', 'spokesman', 'charles', 'deciccio', 'protesters', 'demanding', 'face', 'face', 'meeting', 'gov', 'mario', 'cuomo', 'feared', 'tuition', 'college', '1', '250', 'increased', 'college', 'staff', 'reduced', 'state', 'budget', 'cuts', 'governor', 'immediate', 'comment', 'tuition', 'set', 'deciccio']\n"
     ]
    }
   ],
   "source": [
    "print([id2token[word_id] for word_id in example_document[1] if word_id > 0])"
   ]
  },
  {
   "cell_type": "markdown",
   "metadata": {},
   "source": [
    "The reverse can also be done, say we want to look for news about the \"University of Massachusetts\", the tokens of that query can be converted to ids using the reverse dictionary:"
   ]
  },
  {
   "cell_type": "code",
   "execution_count": 7,
   "metadata": {
    "collapsed": false
   },
   "outputs": [
    {
     "name": "stdout",
     "output_type": "stream",
     "text": [
      "Query by tokens: ['university', '', 'massachusetts']\n",
      "Query by ids with stopwords: [200, 0, 894]\n",
      "Query by ids without stopwords: [200, 894]\n"
     ]
    }
   ],
   "source": [
    "query_tokens = index.tokenize(\"University of Massachusetts\")\n",
    "print(\"Query by tokens:\", query_tokens)\n",
    "query_id_tokens = [token2id.get(query_token,0) for query_token in query_tokens]\n",
    "print(\"Query by ids with stopwords:\", query_id_tokens)\n",
    "query_id_tokens = [word_id for word_id in query_id_tokens if word_id > 0]\n",
    "print(\"Query by ids without stopwords:\", query_id_tokens)"
   ]
  },
  {
   "cell_type": "markdown",
   "metadata": {},
   "source": [
    "Naturally we can now match the document and query in the id space, let's see how often a word from the query occurs in our example document:"
   ]
  },
  {
   "cell_type": "code",
   "execution_count": 8,
   "metadata": {
    "collapsed": false
   },
   "outputs": [
    {
     "name": "stdout",
     "output_type": "stream",
     "text": [
      "Document AP890425-0001 has 13 word matches with query: \"university  massachusetts\".\n",
      "Document AP890425-0001 and query \"university  massachusetts\" have a 2.5% overlap.\n"
     ]
    }
   ],
   "source": [
    "matching_words = sum([True for word_id in example_document[1] if word_id in query_id_tokens])\n",
    "print(\"Document %s has %d word matches with query: \\\"%s\\\".\" % (example_document[0], matching_words, ' '.join(query_tokens)))\n",
    "print(\"Document %s and query \\\"%s\\\" have a %.01f%% overlap.\" % (example_document[0], ' '.join(query_tokens),matching_words/float(len(example_document[1]))*100))"
   ]
  },
  {
   "cell_type": "markdown",
   "metadata": {},
   "source": [
    "While this is certainly not everything Pyndri can do, it should give you an idea of how to use it. Please take a look at the [examples](https://github.com/cvangysel/pyndri) as it will help you a lot with this assignment.\n",
    "\n",
    "**CAUTION**: Avoid printing out the whole index in this Notebook as it will generate a lot of output and is likely to corrupt the Notebook."
   ]
  },
  {
   "cell_type": "markdown",
   "metadata": {},
   "source": [
    "### Parsing the query file\n",
    "You can parse the query file (`ap_88_89/topics_title`) using the following snippet:"
   ]
  },
  {
   "cell_type": "code",
   "execution_count": 9,
   "metadata": {
    "collapsed": false
   },
   "outputs": [
    {
     "name": "stdout",
     "output_type": "stream",
     "text": [
      "OrderedDict([('51', 'Airbus Subsidies'), ('52', 'South African Sanctions'), ('53', 'Leveraged Buyouts'), ('54', 'Satellite Launch Contracts'), ('55', 'Insider Trading'), ('56', 'Prime (Lending) Rate Moves, Predictions'), ('57', 'MCI'), ('58', 'Rail Strikes'), ('59', 'Weather Related Fatalities'), ('60', 'Merit-Pay vs. Seniority'), ('61', 'Israeli Role in Iran-Contra Affair'), ('62', \"Military Coups D'etat\"), ('63', 'Machine Translation'), ('64', 'Hostage-Taking'), ('65', 'Information Retrieval Systems'), ('66', 'Natural Language Processing'), ('67', 'Politically Motivated Civil Disturbances'), ('68', 'Health Hazards from Fine-Diameter Fibers'), ('69', 'Attempts to Revive the SALT II Treaty'), ('70', 'Surrogate Motherhood'), ('71', 'Border Incursions'), ('72', 'Demographic Shifts in the U.S.'), ('73', 'Demographic Shifts across National Boundaries'), ('74', 'Conflicting Policy'), ('75', 'Automation'), ('76', 'U.S. Constitution - Original Intent'), ('77', 'Poaching'), ('78', 'Greenpeace'), ('79', 'FRG Political Party Positions'), ('80', '1988 Presidential Candidates Platforms'), ('81', 'Financial crunch for televangelists in the wake of the PTL scandal'), ('82', 'Genetic Engineering'), ('83', 'Measures to Protect the Atmosphere'), ('84', 'Alternative/renewable Energy Plant & Equipment Installation'), ('85', 'Official Corruption'), ('86', 'Bank Failures'), ('87', 'Criminal Actions Against Officers of Failed Financial Institutions'), ('88', 'Crude Oil Price Trends'), ('89', '\"Downstream\" Investments by OPEC Member States'), ('90', 'Data on Proven Reserves of Oil & Natural Gas Producers'), ('91', 'U.S. Army Acquisition of Advanced Weapons Systems'), ('92', 'International Military Equipment Sales'), ('93', 'What Backing Does the National Rifle Association Have?'), ('94', 'Computer-aided Crime'), ('95', 'Computer-aided Crime Detection'), ('96', 'Computer-Aided Medical Diagnosis'), ('97', 'Fiber Optics Applications'), ('98', 'Fiber Optics Equipment Manufacturers'), ('99', 'Iran-Contra Affair'), ('100', 'Controlling the Transfer of High Technology'), ('101', 'Design of the \"Star Wars\" Anti-missile Defense System'), ('102', \"Laser Research Applicable to the U.S.'s Strategic Defense Initiative\"), ('103', 'Welfare Reform'), ('104', 'Catastrophic Health Insurance'), ('105', '\"Black Monday\"'), ('106', 'U.S. Control of Insider Trading'), ('107', 'Japanese Regulation of Insider Trading'), ('108', 'Japanese Protectionist Measures'), ('109', 'Find Innovative Companies'), ('110', 'Black Resistance Against the South African Government'), ('111', 'Nuclear Proliferation'), ('112', 'Funding Biotechnology'), ('113', 'New Space Satellite Applications'), ('114', 'Non-commercial Satellite Launches'), ('115', 'Impact of the 1986 Immigration Law'), ('116', 'Generic Drug Substitutions'), ('117', 'Capacity of the U.S. Cellular Telephone Network'), ('118', 'International Terrorists'), ('119', 'Actions Against International Terrorists'), ('120', 'Economic Impact of International Terrorism'), ('121', 'Death from Cancer'), ('122', 'RDT&E of New Cancer Fighting Drugs'), ('123', 'Research into & Control of Carcinogens'), ('124', 'Alternatives to Traditional Cancer Therapies'), ('125', 'Anti-smoking Actions by Government'), ('126', 'Medical Ethics and Modern Technology'), ('127', 'U.S.-U.S.S.R. Arms Control Agreements'), ('128', 'Privatization of State Assets'), ('129', 'Soviet Spying on the U.S.'), ('130', 'Jewish Emigration and U.S.-USSR Relations'), ('131', 'McDonnell Douglas Contracts for Military Aircraft'), ('132', '\"Stealth\" Aircraft'), ('133', 'Hubble Space Telescope'), ('134', 'The Human Genome Project'), ('135', 'Possible Contributions of Gene Mapping to Medicine'), ('136', 'Diversification by Pacific Telesis'), ('137', 'Expansion in the U.S. Theme Park Industry'), ('138', 'Iranian Support for Lebanese Hostage-takers'), ('139', \"Iran's Islamic Revolution - Domestic and Foreign Social Consequences\"), ('140', 'Political Impact of Islamic Fundamentalism'), ('141', \"Japan's Handling of its Trade Surplus with the U.S.\"), ('142', 'Impact of Government Regulated Grain Farming on International Relations'), ('143', 'Why Protect U.S. Farmers?'), ('144', 'Management Problems at the United Nations'), ('145', 'Influence of the \"Pro-Israel Lobby\"'), ('146', 'Negotiating an End to the Nicaraguan Civil War'), ('147', 'Productivity Trends in the U.S. Economy'), ('148', 'Conflict in the Horn of Africa'), ('149', 'Industrial Espionage'), ('150', 'U.S. Political Campaign Financing'), ('151', 'Coping with overcrowded prisons'), ('152', 'Accusations of Cheating by Contractors on U.S. Defense Projects'), ('153', 'Insurance Coverage which pays for Long Term Care'), ('154', 'Oil Spills'), ('155', 'Right Wing Christian Fundamentalism in U.S.'), ('156', 'Efforts to enact Gun Control Legislation'), ('157', 'Causes and treatments of multiple sclerosis (MS)'), ('158', 'Term limitations for members of the U.S. Congress'), ('159', 'Electric Car Development'), ('160', 'Vitamins - The Cure for or Cause of Human Ailments'), ('161', 'Acid Rain'), ('162', 'Automobile Recalls'), ('163', 'Vietnam Veterans and Agent Orange'), ('164', 'Generic Drugs - Illegal Activities by Manufacturers'), ('165', 'Tobacco company advertising and the young'), ('166', 'Standardized testing and cultural bias'), ('167', 'Regulation of the showing of violence and explicit sex in motion picture theaters, on television, and on video cassettes.'), ('168', 'Financing AMTRAK'), ('169', 'Cost of Garbage/Trash Removal'), ('170', 'The Consequences of Implantation of Silicone Gel Breast Devices'), ('171', \"Use of Mutual Funds in an Individual's Retirement Strategy\"), ('172', 'The Effectiveness of Medical Products and Related Programs Utilized in the Cessation of Smoking.'), ('173', 'Smoking Bans'), ('174', 'Hazardous Waste Cleanup'), ('175', 'NRA Prevention of Gun Control Legislation'), ('176', 'Real-life private investigators'), ('177', 'English as the Official Language in U.S.'), ('178', 'Dog Maulings'), ('179', 'U. S. Restaurants in Foreign Lands'), ('180', 'Ineffectiveness of U.S. Embargoes/Sanctions'), ('181', 'Abuse of the Elderly by Family Members, and Medical and Nonmedical Personnel, and Initiatives Being Taken to Minimize This Mistreatment'), ('182', 'Commercial Overfishing Creates Food Fish Deficit'), ('183', 'Asbestos Related Lawsuits'), ('184', 'Corporate Pension Plans/Funds'), ('185', 'Reform of the U.S. Welfare System'), ('186', 'Difference of Learning Levels Among Inner City and More Suburban School Students'), ('187', 'Signs of the Demise of Independent Publishing'), ('188', 'Beachfront Erosion'), ('189', 'Real Motives for Murder'), ('190', 'Instances of Fraud Involving the Use of a Computer'), ('191', 'Efforts to Improve U.S. Schooling'), ('192', 'Oil Spill Cleanup'), ('193', 'Toys R Dangerous'), ('194', 'The Amount of Money Earned by Writers'), ('195', 'Stock Market Perturbations Attributable to Computer Initiated Trading'), ('196', 'School Choice Voucher System and its effects upon the entire U.S. educational program'), ('197', 'Reform of the jurisprudence system to stop juries from granting unreasonable monetary awards'), ('198', 'Gene Therapy and Its Benefits to Humankind'), ('199', 'Legality of Medically Assisted Suicides'), ('200', 'Impact of foreign textile imports on U.S. textile industry')])\n"
     ]
    }
   ],
   "source": [
    "import collections\n",
    "import io\n",
    "import logging\n",
    "import sys\n",
    "\n",
    "def parse_topics(file_or_files,\n",
    "                 max_topics=sys.maxsize, delimiter=';'):\n",
    "    assert max_topics >= 0 or max_topics is None\n",
    "\n",
    "    topics = collections.OrderedDict()\n",
    "\n",
    "    if not isinstance(file_or_files, list) and \\\n",
    "            not isinstance(file_or_files, tuple):\n",
    "        if hasattr(file_or_files, '__iter__'):\n",
    "            file_or_files = list(file_or_files)\n",
    "        else:\n",
    "            file_or_files = [file_or_files]\n",
    "\n",
    "    for f in file_or_files:\n",
    "        assert isinstance(f, io.IOBase)\n",
    "\n",
    "        for line in f:\n",
    "            assert(isinstance(line, str))\n",
    "\n",
    "            line = line.strip()\n",
    "\n",
    "            if not line:\n",
    "                continue\n",
    "\n",
    "            topic_id, terms = line.split(delimiter, 1)\n",
    "\n",
    "            if topic_id in topics and (topics[topic_id] != terms):\n",
    "                    logging.error('Duplicate topic \"%s\" (%s vs. %s).',\n",
    "                                  topic_id,\n",
    "                                  topics[topic_id],\n",
    "                                  terms)\n",
    "\n",
    "            topics[topic_id] = terms\n",
    "\n",
    "            if max_topics > 0 and len(topics) >= max_topics:\n",
    "                break\n",
    "\n",
    "    return topics\n",
    "\n",
    "with open('./ap_88_89/topics_title', 'r') as f_topics:\n",
    "    print(parse_topics([f_topics]))"
   ]
  },
  {
   "cell_type": "markdown",
   "metadata": {},
   "source": [
    "### Task 1: Implement and compare lexical IR methods [35 points] ### \n",
    "\n",
    "In this task you will implement a number of lexical methods for IR using the **Pyndri** framework. Then you will evaluate these methods on the dataset we have provided using **TREC Eval**.\n",
    "\n",
    "Use the **Pyndri** framework to get statistics of the documents (term frequency, document frequency, collection frequency; **you are not allowed to use the query functionality of Pyndri**) and implement the following scoring methods in **Python**:\n",
    "\n",
    "- [TF-IDF](http://nlp.stanford.edu/IR-book/html/htmledition/tf-idf-weighting-1.html) and \n",
    "- [BM25](http://nlp.stanford.edu/IR-book/html/htmledition/okapi-bm25-a-non-binary-model-1.html) with k1=1.2 and b=0.75. **[5 points]**\n",
    "- Language models ([survey](https://drive.google.com/file/d/0B-zklbckv9CHc0c3b245UW90NE0/view))\n",
    "    - Jelinek-Mercer (explore different values of 𝛌 in the range [0.1, 0.5, 0.9]). **[5 points]**\n",
    "    - Dirichlet Prior (explore different values of 𝛍 [500, 1000, 1500]). **[5 points]**\n",
    "    - Absolute discounting (explore different values of 𝛅 in the range [0.1, 0.5, 0.9]). **[5 points]**\n",
    "    - [Positional Language Models](http://sifaka.cs.uiuc.edu/~ylv2/pub/sigir09-plm.pdf) define a language model for each position of a document, and score a document based on the scores of its PLMs. The PLM is estimated based on propagated counts of words within a document through a proximity-based density function, which both captures proximity heuristics and achieves an effect of “soft” passage retrieval. Implement the PLM, all five kernels, but only the Best position strategy to score documents. Use 𝛔 equal to 50, and Dirichlet smoothing with 𝛍 optimized on the validation set (decide how to optimize this value yourself and motivate your decision in the report). **[10 points]**\n",
    "    \n",
    "Implement the above methods and report evaluation measures (on the test set) using the hyper parameter values you optimized on the validation set (also report the values of the hyper parameters). Use TREC Eval to obtain the results and report on `NDCG@10`, Mean Average Precision (`MAP@1000`), `Precision@5` and `Recall@1000`.\n",
    "\n",
    "For the language models, create plots showing `NDCG@10` with varying values of the parameters. You can do this by chaining small scripts using shell scripting (preferred) or execute trec_eval using Python's `subprocess`.\n",
    "\n",
    "Compute significance of the results using a [two-tailed paired Student t-test](https://docs.scipy.org/doc/scipy/reference/generated/scipy.stats.ttest_rel.html) **[5 points]**. Be wary of false rejection of the null hypothesis caused by the [multiple comparisons problem](https://en.wikipedia.org/wiki/Multiple_comparisons_problem). There are multiple ways to mitigate this problem and it is up to you to choose one.\n",
    "\n",
    "Analyse the results by identifying specific queries where different methods succeed or fail and discuss possible reasons that cause these differences. This is *very important* in order to understand who the different retrieval functions behave.\n",
    "\n",
    "**NOTE**: Don’t forget to use log computations in your calculations to avoid underflows. "
   ]
  },
  {
   "cell_type": "markdown",
   "metadata": {},
   "source": [
    "**IMPORTANT**: You should structure your code around the helper functions we provide below."
   ]
  },
  {
   "cell_type": "code",
   "execution_count": 10,
   "metadata": {
    "collapsed": false
   },
   "outputs": [
    {
     "name": "stdout",
     "output_type": "stream",
     "text": [
      "Gathering statistics about 456 terms.\n",
      "Inverted index creation took 49.190560817718506 seconds.\n"
     ]
    }
   ],
   "source": [
    "import time\n",
    "\n",
    "with open('./ap_88_89/topics_title', 'r') as f_topics:\n",
    "    queries = parse_topics([f_topics])\n",
    "\n",
    "index = pyndri.Index('index/')\n",
    "\n",
    "num_documents = index.maximum_document() - index.document_base()\n",
    "\n",
    "dictionary = pyndri.extract_dictionary(index)\n",
    "\n",
    "tokenized_queries = {\n",
    "    query_id: [dictionary.translate_token(token)\n",
    "               for token in index.tokenize(query_string)\n",
    "               if dictionary.has_token(token)]\n",
    "    for query_id, query_string in queries.items()}\n",
    "\n",
    "query_term_ids = set(\n",
    "    query_term_id\n",
    "    for query_term_ids in tokenized_queries.values()\n",
    "    for query_term_id in query_term_ids)\n",
    "\n",
    "print('Gathering statistics about', len(query_term_ids), 'terms.')\n",
    "\n",
    "# inverted index creation.\n",
    "start_time = time.time()\n",
    "\n",
    "document_lengths = {}\n",
    "unique_terms_per_document = {}\n",
    "\n",
    "inverted_index = collections.defaultdict(dict)\n",
    "collection_frequencies = collections.defaultdict(int)\n",
    "\n",
    "total_terms = 0\n",
    "\n",
    "for int_doc_id in range(index.document_base(), index.maximum_document()):\n",
    "    ext_doc_id, doc_token_ids = index.document(int_doc_id)\n",
    "\n",
    "    document_bow = collections.Counter(\n",
    "        token_id for token_id in doc_token_ids\n",
    "        if token_id > 0)\n",
    "    document_length = sum(document_bow.values())\n",
    "\n",
    "    document_lengths[int_doc_id] = document_length\n",
    "    total_terms += document_length\n",
    "\n",
    "    unique_terms_per_document[int_doc_id] = len(document_bow)\n",
    "\n",
    "    for query_term_id in query_term_ids:\n",
    "        assert query_term_id is not None\n",
    "\n",
    "        document_term_frequency = document_bow.get(query_term_id, 0)\n",
    "\n",
    "        if document_term_frequency == 0:\n",
    "            continue\n",
    "\n",
    "        collection_frequencies[query_term_id] += document_term_frequency\n",
    "        inverted_index[query_term_id][int_doc_id] = document_term_frequency\n",
    "\n",
    "avg_doc_length = total_terms / num_documents\n",
    "\n",
    "print('Inverted index creation took', time.time() - start_time, 'seconds.')"
   ]
  },
  {
   "cell_type": "code",
   "execution_count": 11,
   "metadata": {
    "collapsed": true
   },
   "outputs": [],
   "source": [
    "def run_retrieval(model_name, score_fn, fpath_qrel = './ap_88_89/qrel_test', print_info = False):\n",
    "    \"\"\"\n",
    "    Runs a retrieval method for all the queries and writes the TREC-friendly results in a file.\n",
    "    \n",
    "    :param model_name: the name of the model (a string)\n",
    "    :param score_fn: the scoring function (a function - see below for an example) \n",
    "    \"\"\"\n",
    "    run_out_path = '{}.run'.format(model_name)\n",
    "\n",
    "    if os.path.exists(run_out_path):\n",
    "        print(\"warning: the file {0} already exists and is not overwritten.\".format(run_out_path))\n",
    "        return\n",
    "\n",
    "    retrieval_start_time = time.time()\n",
    "\n",
    "    if print_info:\n",
    "        print('Retrieving using', model_name)\n",
    "    \n",
    "    data = build_data(fpath_qrel, score_fn)\n",
    "\n",
    "\n",
    "    # TODO: fill the data dictionary. \n",
    "    # The dictionary data should have the form: query_id --> (document_score, external_doc_id)\n",
    "    with open(run_out_path, 'w') as f_out:\n",
    "        write_run(\n",
    "            model_name=model_name,\n",
    "            data=data,\n",
    "            out_f=f_out,\n",
    "            max_objects_per_query=1000)"
   ]
  },
  {
   "cell_type": "code",
   "execution_count": 12,
   "metadata": {
    "collapsed": true
   },
   "outputs": [],
   "source": [
    "# Helper functions for reading data\n",
    "\n",
    "def parse_query_relevance_file(fpath):\n",
    "    with open(fpath, 'r') as rels:\n",
    "        doc_ids = []\n",
    "        query_id = None\n",
    "        for rel_line in rels:\n",
    "            q_d_rel = rel_line.split()\n",
    "            q_id = q_d_rel[0]\n",
    "            doc_id = q_d_rel[2]\n",
    "            if not query_id:\n",
    "                query_id = q_id\n",
    "                doc_ids.append(doc_id)\n",
    "            elif query_id == q_id:\n",
    "                doc_ids.append(doc_id)\n",
    "            else:\n",
    "                query_docs = (query_id, get_query_term_ids(query_id), doc_ids, get_int_document_ids(doc_ids))\n",
    "                query_id = q_id\n",
    "                doc_ids = []\n",
    "                yield query_docs\n",
    "\n",
    "def get_query_term_ids(query_id):\n",
    "    query_text = queries[query_id]\n",
    "    query_terms = index.tokenize(query_text)\n",
    "    query_term_ids = [token2id.get(query_term,0) for query_term in query_terms if token2id.get(query_term,0) > 0]\n",
    "    return query_term_ids\n",
    "\n",
    "def get_int_document_ids(document_ids):\n",
    "    int_document_ids = [doc_index for _, doc_index in index.document_ids(document_ids)]\n",
    "    return int_document_ids\n",
    "\n",
    "def build_data(fpath, score_fn, top = 1000):                \n",
    "    data = {}\n",
    "    for (q_id, q_term_ids, doc_ids, int_doc_ids) in parse_query_relevance_file(fpath):\n",
    "        top_doc_ids = doc_ids[:top] if top else doc_ids\n",
    "        top_int_doc_ids = get_int_document_ids(top_doc_ids)\n",
    "        zipped_doc_ids = zip(top_doc_ids, top_int_doc_ids)\n",
    "        data[q_id] = tuple((score_fn(int_doc_id, q_term_ids), doc_id) for (doc_id, int_doc_id) in zipped_doc_ids)\n",
    "    return data"
   ]
  },
  {
   "cell_type": "markdown",
   "metadata": {},
   "source": [
    "$tf\\_idf(t;d) = \\log (1 + tf(t;d))[log(n) - log(df(t))] $\n",
    "with $tf(t;d)$ the number of times term $t$ occurs in document $d$,\n",
    "$n$ the total number of documents,\n",
    "$df(t)$ the number of documents in which term $t$ occurs.\n",
    "\n",
    "Score of query is sum of $tf\\_idf$ weights of terms in the query."
   ]
  },
  {
   "cell_type": "code",
   "execution_count": 13,
   "metadata": {
    "collapsed": true
   },
   "outputs": [],
   "source": [
    "import math\n",
    "import numpy as np\n",
    "\n",
    "def tfidf(int_document_id, query_term_ids, document_term_freq = None):\n",
    "    \"\"\"\n",
    "    TFIDF scoring function for a document and a query term\n",
    "    \n",
    "    :param int_document_id: the document id\n",
    "    :param query_token_id: the query term id (assuming you have split the query to tokens)\n",
    "    :param document_term_freq: the document term frequency of the query term \n",
    "    \"\"\"\n",
    "\n",
    "    # TODO: add comment(s)\n",
    "    def _tfidf(int_document_id, query_term_id):\n",
    "        document_term_freq = inverted_index[query_term_id].get(int_document_id, 0)\n",
    "        num_documents = index.maximum_document() - index.document_base()\n",
    "        num_documents_with_term = len(inverted_index[query_term_id])\n",
    "        tf = math.log(1 + document_term_freq)\n",
    "        idf = math.log(num_documents) - math.log(num_documents_with_term)\n",
    "        score = tf * idf\n",
    "        return score\n",
    "\n",
    "    return sum([_tfidf(int_document_id, qt_id) for qt_id in query_term_ids])"
   ]
  },
  {
   "cell_type": "code",
   "execution_count": 14,
   "metadata": {
    "collapsed": true
   },
   "outputs": [],
   "source": [
    "# We need this for BM25, calculating each time is too expensive\n",
    "# TODO: better solution than making it a global?\n",
    "# ALREADY DEFINED EARLIER\n",
    "#avg_doc_length = np.mean([len(index.document(i)) \n",
    "#                                   for i in range(index.document_base(), index.maximum_document())])\n",
    "\n",
    "def BM25(int_document_id, query_term_ids, k1 = 1.5, b = 0.75):\n",
    "    \"\"\"\n",
    "    BM25 scoring function for a document and a query term\n",
    "    \n",
    "    :param int_document_id: the document id\n",
    "    :param query_token_id: the query term id (assuming you have split the query to tokens)\n",
    "    :param lambda (𝛌): smoothing parameter in the range [0.1, 0.5, 0.9]\n",
    "    \"\"\"\n",
    "    \n",
    "    document_length = len(index.document(int_document_id)[1])\n",
    "    doc_length_normalization_term = ((1 - b) + b * (document_length / avg_doc_length))\n",
    "    \n",
    "    def _BM25(int_document_id, query_term_id):\n",
    "        \n",
    "        # idf\n",
    "        num_documents_with_term = len(inverted_index[query_term_id])\n",
    "        idf = math.log(num_documents) - math.log(num_documents_with_term)\n",
    "        \n",
    "        # tf adjusted for document length and saturation\n",
    "        document_term_freq = inverted_index[query_term_id].get(int_document_id, 0)\n",
    "        adjusted_term_freq = ((k1 + 1) * document_term_freq) / (k1 * doc_length_normalization_term + document_term_freq)\n",
    "\n",
    "        # score\n",
    "        return adjusted_term_freq * idf\n",
    "\n",
    "    unique_query_term_ids = set(query_term_ids)\n",
    "    return sum([_BM25(int_document_id, qt_id) for qt_id in unique_query_term_ids])"
   ]
  },
  {
   "cell_type": "code",
   "execution_count": 15,
   "metadata": {
    "collapsed": false
   },
   "outputs": [
    {
     "data": {
      "text/plain": [
       "75983583"
      ]
     },
     "execution_count": 15,
     "metadata": {},
     "output_type": "execute_result"
    }
   ],
   "source": [
    "# We need this for jelinek_mercer, dirichlet_prior, absolute_discounting\n",
    "# TODO: better solution than making it a global?\n",
    "corpus_size = sum([len(index.document(i)[1]) for i in range(index.document_base(), index.maximum_document())])\n",
    "corpus_size"
   ]
  },
  {
   "cell_type": "code",
   "execution_count": 16,
   "metadata": {
    "collapsed": true
   },
   "outputs": [],
   "source": [
    "# Make corpus term frequency for language models with query terms only\n",
    "corpus_term_freqs = collections.defaultdict(lambda: 0, key = 0)\n",
    "\n",
    "for query_key in inverted_index.keys():\n",
    "    for document_key in inverted_index[query_key].keys():\n",
    "        corpus_term_freqs[query_key] += inverted_index[query_key][document_key]"
   ]
  },
  {
   "cell_type": "code",
   "execution_count": 17,
   "metadata": {
    "collapsed": true
   },
   "outputs": [],
   "source": [
    "# Make total corpus term frequency for language models\n",
    "total_corpus_term_freqs = collections.defaultdict(lambda: 0, key = 0)\n",
    "\n",
    "for document_index in range(index.document_base(), index.maximum_document()):\n",
    "    document = index.document(document_index)[1]\n",
    "    for term in document:\n",
    "        total_corpus_term_freqs[term] += 1"
   ]
  },
  {
   "cell_type": "code",
   "execution_count": 18,
   "metadata": {
    "collapsed": true
   },
   "outputs": [],
   "source": [
    "def jelinek_mercer(int_document_id, query_term_ids, lambda_ = 0.1):\n",
    "    \"\"\"\n",
    "    Jelinek-Mercer scoring function for a document and a query term\n",
    "    \n",
    "    :param int_document_id: the document id\n",
    "    :param query_token_id: the query term id (assuming you have split the query to tokens)\n",
    "    :param lambda (𝛌): smoothing parameter in the range [0.1, 0.5, 0.9]\n",
    "    \"\"\"\n",
    "    \n",
    "    document_length = len(index.document(int_document_id)[1])\n",
    "    if document_length == 0:\n",
    "        return 0\n",
    "\n",
    "    # TODO: add comment(s)\n",
    "    def _jelinek_mercer(int_document_id, query_term_id):\n",
    "        document_term_freq = inverted_index[query_term_id].get(int_document_id, 0)\n",
    "        corpus_term_freq = corpus_term_freqs[query_term_id]\n",
    "        background_lm = corpus_term_freq / corpus_size\n",
    "        score = lambda_ * (document_term_freq / document_length) + (1 - lambda_) * background_lm\n",
    "        return score\n",
    "    \n",
    "    unique_query_term_ids = set(query_term_ids)\n",
    "    return np.sum([np.log(_jelinek_mercer(int_document_id, qt_id)) for qt_id in unique_query_term_ids])"
   ]
  },
  {
   "cell_type": "code",
   "execution_count": 19,
   "metadata": {
    "collapsed": true
   },
   "outputs": [],
   "source": [
    "def dirichlet_prior(int_document_id, query_term_ids, mu = 500):\n",
    "    \"\"\"\n",
    "    Dirichlet Prior scoring function for a document and a query term\n",
    "    \n",
    "    :param int_document_id: the document id\n",
    "    :param query_token_id: the query term id (assuming you have split the query to tokens)\n",
    "    :param mu (𝛍): smoothing parameter in the range [500, 1000, 1500]\n",
    "    \"\"\"\n",
    "    \n",
    "    document_length = len(index.document(int_document_id)[1])\n",
    "    if document_length == 0 and mu == 0:\n",
    "        return 0\n",
    "\n",
    "    \n",
    "    # TODO: add comment(s)a\n",
    "    def _dirichlet_prior(int_document_id, query_term_id):\n",
    "        document_term_freq = inverted_index[query_term_id].get(int_document_id, 0)\n",
    "        corpus_term_freq = corpus_term_freqs[query_term_id]\n",
    "        background_lm = corpus_term_freq / corpus_size\n",
    "        score = (document_term_freq + mu * background_lm) / (document_length + mu)\n",
    "        return score\n",
    "\n",
    "    # use log to avoid underflow\n",
    "    return np.prod([_dirichlet_prior(int_document_id, qt_id) for qt_id in set(query_term_ids)])"
   ]
  },
  {
   "cell_type": "code",
   "execution_count": 20,
   "metadata": {
    "collapsed": true
   },
   "outputs": [],
   "source": [
    "def absolute_discounting(int_document_id, query_term_ids, delta = 0.1):\n",
    "    \"\"\"\n",
    "    Absolute discounting scoring function for a document and a query term\n",
    "    \n",
    "    :param int_document_id: the document id\n",
    "    :param query_token_id: the query term id (assuming you have split the query to tokens)\n",
    "    :param delta (𝛅): smoothing parameter in the range [0.1, 0.5, 0.9]\n",
    "    \"\"\"\n",
    "    \n",
    "    document_length = len(index.document(int_document_id)[1])\n",
    "    if document_length == 0:\n",
    "        return 0\n",
    "    \n",
    "    # TODO: add comment(s)\n",
    "    def _absolute_discounting(int_document_id, query_term_id):\n",
    "        document_term_freq = inverted_index[query_term_id].get(int_document_id, 0) \n",
    "        unique_words = len(set(index.document(int_document_id)))\n",
    "        corpus_term_freq = corpus_term_freqs[query_term_id]\n",
    "        background_lm = corpus_term_freq / corpus_size\n",
    "        score = (max(document_term_freq - delta, 0) / document_length\n",
    "                 + (delta * unique_words / document_length) * background_lm)\n",
    "        return score\n",
    "\n",
    "    # use log to avoid underflow\n",
    "    return np.sum([np.log(_absolute_discounting(int_document_id, qt_id)) for qt_id in set(query_term_ids)])"
   ]
  },
  {
   "cell_type": "code",
   "execution_count": 21,
   "metadata": {
    "collapsed": true
   },
   "outputs": [],
   "source": [
    "# Implement positional language model\n",
    "\n",
    "# First we build an inverted index with positions,\n",
    "# only for the query terms and documents that are relevant for the \n",
    "# evaluation run\n",
    "def build_inverted_index_positions(fpath_qrel):\n",
    "\n",
    "    # collect relevant query_term_ids and int_doc_ids\n",
    "    query_term_ids = set()\n",
    "    int_doc_ids = set()\n",
    "    for query_data in parse_query_relevance_file(fpath_qrel):\n",
    "        query_term_ids = query_term_ids.union(query_data[1])\n",
    "        int_doc_ids = int_doc_ids.union(query_data[3])\n",
    "\n",
    "    # build inverted index with position info\n",
    "    inverted_index_positions = {}\n",
    "    for qt_id in query_term_ids:\n",
    "        for int_doc_id in int_doc_ids:\n",
    "            tf = inverted_index[qt_id].get(int_doc_id, 0)\n",
    "            if tf > 0:\n",
    "                doc_term_ids = np.array(index.document(int_doc_id)[1])\n",
    "                qt_positions = list(np.where(doc_term_ids == qt_id)[0])\n",
    "                if not qt_id in inverted_index_positions:\n",
    "                    inverted_index_positions[qt_id] = {}\n",
    "                inverted_index_positions[qt_id][int_doc_id] = qt_positions\n",
    "    return inverted_index_positions\n",
    "\n",
    "fpath_qrel_test = './ap_88_89/qrel_test'\n",
    "inverted_index_positions = build_inverted_index_positions(fpath_qrel_test)"
   ]
  },
  {
   "cell_type": "code",
   "execution_count": 22,
   "metadata": {
    "collapsed": true
   },
   "outputs": [],
   "source": [
    "def gaussian_kernel(i, j, sigma = 50):\n",
    "    numerator = -(i-j)**2.\n",
    "    denomineter = 2. * (sigma**2)\n",
    "    return np.exp(numerator/denomineter)\n",
    "\n",
    "def triangle_kernel(i, j, sigma = 50):\n",
    "    if abs(i - j) <= sigma:\n",
    "        return 1 - abs(i - j)/sigma\n",
    "    else:\n",
    "        return 0\n",
    "    \n",
    "def cosine_kernel(i, j, sigma = 50):\n",
    "    if abs(i - j) <= sigma:\n",
    "        return (1/2)*(1 + np.cos((abs(i-j)*np.pi)/(sigma)))\n",
    "    else:\n",
    "        return 0\n",
    "    \n",
    "def circle_kernel(i, j, sigma = 50):\n",
    "    if abs(i - j) <= sigma:\n",
    "        return (1 - (abs(i-j)/(sigma))**2)**(1/2)\n",
    "    else:\n",
    "        return 0\n",
    "    \n",
    "def passage_kernel(i, j, sigma = 50):\n",
    "    if abs(i - j) <= sigma:\n",
    "        return 1\n",
    "    else:\n",
    "        return 0"
   ]
  },
  {
   "cell_type": "code",
   "execution_count": 23,
   "metadata": {
    "collapsed": true
   },
   "outputs": [],
   "source": [
    "import matplotlib.pyplot as plt\n",
    "from functools import reduce\n",
    "\n",
    "def positional_language_model(\n",
    "    int_document_id, query_term_ids, inverted_index_positions, \n",
    "    fn_kernel, Zi_cache = {}, mu = 50, print_diagram = False):\n",
    "    \n",
    "    doc_length = len(index.document(int_document_id)[1])\n",
    "    if doc_length == 0:\n",
    "        return 0 # empty document\n",
    "\n",
    "    # For performance we assume that the kernel is defined in such a way \n",
    "    # that the best position lies within the range [min_pos, max_pos] \n",
    "    # if no query words occur in the document, we pick the position with the \n",
    "    # lowest Zi value, since that gives the highest background prob\n",
    "    positions = [ inverted_index_positions[qt_id].get(int_document_id, []) for qt_id in query_term_ids]\n",
    "    positions = reduce(lambda x, y: x+y, positions)\n",
    "    if not positions: # no query terms in document\n",
    "        positions = [0] # position with lowest Zi value is at the edge\n",
    "    pos_min = min(positions)\n",
    "    pos_max = max(positions) + 1\n",
    "    doc_positions = range(pos_min, pos_max)\n",
    "\n",
    "    \n",
    "    # Helper function to calculate the propagated probability of a \n",
    "    # single term at a given position (using Dirichlet smoothing)\n",
    "    fn_Zi = lambda pos_i: sum([fn_kernel(pos_i, pos_j) for pos_j in range(doc_length)])\n",
    "    def _term_prob_at_pos(query_term_id, pos_i):\n",
    "        qt_positions = inverted_index_positions[query_term_id].get(int_document_id, [])\n",
    "        qt_pos_i_propagated_count = sum([fn_kernel(pos_i, pos_j) for pos_j in qt_positions]) \n",
    "        \n",
    "        corpus_term_freq = corpus_term_freqs[query_term_id]\n",
    "        background_prob = corpus_term_freq / corpus_size\n",
    "        \n",
    "        # For performance we cache Zi values per document length and pos\n",
    "        if not Zi_cache.get(doc_length):\n",
    "            Zi_cache[doc_length] = {}\n",
    "        if not Zi_cache[doc_length].get(pos_i):\n",
    "            Zi_cache[doc_length][pos_i] = fn_Zi(pos_i)\n",
    "        zi_value_at_pos = Zi_cache[doc_length][pos_i]\n",
    "        \n",
    "        numerator = qt_pos_i_propagated_count + mu * background_prob\n",
    "        denominator = zi_value_at_pos + mu\n",
    "        qt_prob_pos_i = numerator/denominator\n",
    "        return qt_prob_pos_i\n",
    "\n",
    "    # We build a matrix with document positions as columns and\n",
    "    # query term indices as rows. The entries in this matrix represent\n",
    "    # the probability of the query term (row) at the given position (column) in the range pos_min, pos_max\n",
    "    qt_indices = range (len(query_term_ids))\n",
    "    pos_qt_matrix = np.array([ [\n",
    "        _term_prob_at_pos(query_term_ids[qt_index], pos) for pos in doc_positions\n",
    "    ] for qt_index in qt_indices])\n",
    "\n",
    "    if print_diagram:\n",
    "        for r in pos_qt_matrix:\n",
    "            plt.plot(doc_positions, r)\n",
    "        plt.show()\n",
    "        plt.plot(doc_positions, pos_qt_matrix.prod(axis = 0))\n",
    "        plt.show()\n",
    "\n",
    "\n",
    "    # We calculate the propability of the query at the relevant positions\n",
    "    # by multiplying the probability of the terms in the query\n",
    "    # (or actually we sum the log probs to avoid underflow) \n",
    "    query_probs_per_position = np.log(pos_qt_matrix).prod(axis = 0)\n",
    "        \n",
    "    # We return the query probability at the best position\n",
    "    query_prob_at_best_position = float(query_probs_per_position.max())\n",
    "    \n",
    "    return  query_prob_at_best_position"
   ]
  },
  {
   "cell_type": "code",
   "execution_count": 24,
   "metadata": {
    "collapsed": false
   },
   "outputs": [
    {
     "data": {
      "text/plain": [
       "-330.2959933185617"
      ]
     },
     "execution_count": 24,
     "metadata": {},
     "output_type": "execute_result"
    }
   ],
   "source": [
    "## Example PLM \n",
    "doc_id = 6422\n",
    "existing_qt_ids = [qt_id for qt_id in index.document(doc_id)[1] if inverted_index_positions.get(qt_id)]\n",
    "qt_1 = existing_qt_ids[5] # [112, 556]\n",
    "qt_2 = existing_qt_ids[25] # [507]\n",
    "qt_3 = 4204 # does not exist\n",
    "positional_language_model(\n",
    "    doc_id, [qt_1, qt_2, qt_3], inverted_index_positions, \n",
    "    gaussian_kernel, mu = 50, print_diagram = True)\n",
    "# 3.747485365662843e-05 for [qt_1, qt_2]\n",
    "# 4.281483411901026e-09 for [qt_1, qt_2, qt_3]"
   ]
  },
  {
   "cell_type": "code",
   "execution_count": 25,
   "metadata": {
    "collapsed": true
   },
   "outputs": [],
   "source": [
    "import os\n",
    "import pandas as pd\n",
    "\n",
    "def generate_evaluation_results(retrieval_models, fpath_qrel, output_dir, print_info = False):\n",
    "    \n",
    "    # Generates <modelname>.run files (i.e. tfidf.run) \n",
    "    # containing the ranking result for the query and\n",
    "    # documents that occur in the fpath_qrel file\n",
    "    for mname, mfunc in retrieval_models.items():   \n",
    "        start_time = time.time()\n",
    "        run_retrieval(mname, mfunc, fpath_qrel) \n",
    "        if print_info:\n",
    "            print (\"retrieval for '{0}' took {1:.2f} secondes: \".format(mname, time.time() - start_time))\n",
    "    print()\n",
    "        \n",
    "    # Applies trec eval on <modelname>.run and fpath_qrel files\n",
    "    # to generate results/<modelname.txt> files.\n",
    "    # The result files contain scores per query using different \n",
    "    # metrics (i.e. NDCG@10, recall@100, ...)\n",
    "    for mname, mfunc in retrieval_models.items():     \n",
    "        if print_info:\n",
    "            print(\"Generating results for {0}\".format(mname))\n",
    "        os.system(\"mkdir -p {0}\".format(output_dir))\n",
    "        os.system(\"./trec_eval/trec_eval -m all_trec -q {0} {1}.run > {2}/{1}.txt\".format(\n",
    "            fpath_qrel, mname, output_dir))\n",
    "    print()\n",
    "        \n",
    "            \n",
    "def clean_evaluation_results(retrieval_models, output_dirs, print_info = False):\n",
    "\n",
    "    def _delete_file_if_exists(fpath):\n",
    "        try:\n",
    "            os.remove(fpath)\n",
    "        except OSError:\n",
    "            pass\n",
    "\n",
    "    for mname in retrieval_models.keys():\n",
    "        _delete_file_if_exists(\"{0}.run\".format(mname))\n",
    "        for d in output_dirs:\n",
    "            fpath = \"{0}/{1}.txt\".format(d, mname)\n",
    "            if print_info:\n",
    "                print(\"Deleting {0} if exists\".format(fpath))\n",
    "            _delete_file_if_exists(fpath)\n",
    "    print()\n",
    "    \n"
   ]
  },
  {
   "cell_type": "code",
   "execution_count": 26,
   "metadata": {
    "collapsed": true
   },
   "outputs": [],
   "source": [
    "from scipy import stats\n",
    "import itertools\n",
    "\n",
    "def build_df_results(retrieval_models, metrics, dirpath, print_info = False):\n",
    "    # Build dataframe with trec results\n",
    "    df_results = pd.DataFrame({})\n",
    "    for mname, mfunc in retrieval_models.items():\n",
    "        if print_info:\n",
    "            print(\"Reading results for {0}\".format(mname))\n",
    "        df_model = pd.read_csv(\n",
    "            '{0}/{1}.txt'.format(dirpath, mname), \n",
    "            delim_whitespace = True, \n",
    "            header = None, \n",
    "            names = ['metric', 'query_id', mname]\n",
    "        )\n",
    "        if len(df_results): # add column containing results for current model\n",
    "            df_results = pd.merge(\n",
    "                df_results, \n",
    "                df_model, \n",
    "                on=['metric', 'query_id'] \n",
    "#                 validate=\"one_to_one\" <- Raises error\n",
    "            )\n",
    "        else: # create data frame with scores for first model: 'metric', 'query_id', 'model name'\n",
    "            df_results = df_model\n",
    "\n",
    "    # filter rows on metrics\n",
    "    print(\"Filtering rows on: {0}\".format(\", \".join(metrics)))\n",
    "    df_results = df_results[df_results.apply(\n",
    "        lambda row: row['metric'] in metrics and not row['query_id'] == 'all', axis = 1)]\n",
    "    for mname in retrieval_models.keys():\n",
    "        df_results[mname] = df_results[mname].astype(np.float64) \n",
    "\n",
    "    print()\n",
    "    return df_results\n",
    "\n",
    "def analyze_evaluation_results(df_results, print_df = True, result_dir = None):\n",
    "\n",
    "    retrieval_models = list(df_results.columns[2:])\n",
    "    metrics = list(df_results['metric'].unique())\n",
    "\n",
    "    def _calculate_pvalues(df_results):\n",
    "\n",
    "        rm_pairs = []\n",
    "        pvalues = []\n",
    "        metric_names = []\n",
    "        for m in metrics:\n",
    "            for rm1, rm2 in itertools.product(retrieval_models, retrieval_models):\n",
    "                if rm1 > rm2:\n",
    "                    ttest_result = stats.ttest_rel(\n",
    "                        df_results[df_results.metric == m][rm1], \n",
    "                        df_results[df_results.metric == m][rm2]\n",
    "                    )\n",
    "                    metric_names.append(m)\n",
    "                    rm_pairs.append(\"{0}_{1}\".format(rm1, rm2))\n",
    "                    pvalues.append(ttest_result.pvalue)\n",
    "\n",
    "        d = {'metric': metric_names, 'retrieval_pairs': rm_pairs, 'pvalues': pvalues}\n",
    "        df_pvalues = pd.DataFrame( data = d)\n",
    "        return df_pvalues\n",
    "\n",
    "    df_means = df_results.groupby(['metric'])[retrieval_models].mean()\n",
    "    df_means.reset_index(inplace=True)\n",
    "    df_pvalues = _calculate_pvalues(df_results)\n",
    "    df_pvalues.sort_values(['retrieval_pairs', 'metric']).reset_index(inplace=True)\n",
    "    \n",
    "    if result_dir:\n",
    "        df_results.to_csv(\"{0}/results.csv\".format(result_dir), index = False)\n",
    "        df_means.to_csv(\"{0}/means.csv\".format(result_dir), index = False)\n",
    "        df_pvalues.to_csv(\"{0}/pvalues.csv\".format(result_dir), index = False)\n",
    "    \n",
    "    if print_df:\n",
    "        print()\n",
    "        print('means: ')\n",
    "        display(df_means)\n",
    "        print('pvalues: ')\n",
    "        display(df_pvalues)\n",
    "        print('ndcg: ')\n",
    "        display(df_results[df_results['metric'] == 'ndcg_cut_10'].head(20))\n",
    "    \n",
    "    return df_results, df_means, df_pvalues\n"
   ]
  },
  {
   "cell_type": "code",
   "execution_count": 27,
   "metadata": {
    "collapsed": false
   },
   "outputs": [
    {
     "name": "stdout",
     "output_type": "stream",
     "text": [
      "\n",
      "\n",
      "\n"
     ]
    },
    {
     "data": {
      "image/png": "[encoded data removed]",
      "text/plain": [
       "<matplotlib.figure.Figure at 0x7f03dddb36a0>"
      ]
     },
     "metadata": {},
     "output_type": "display_data"
    },
    {
     "name": "stdout",
     "output_type": "stream",
     "text": [
      "\n",
      "\n",
      "\n"
     ]
    },
    {
     "data": {
      "image/png": "[encoded data removed]",
      "text/plain": [
       "<matplotlib.figure.Figure at 0x7f03ddf012b0>"
      ]
     },
     "metadata": {},
     "output_type": "display_data"
    },
    {
     "name": "stdout",
     "output_type": "stream",
     "text": [
      "\n",
      "\n",
      "\n"
     ]
    },
    {
     "data": {
      "image/png": "[encoded data removed]",
      "text/plain": [
       "<matplotlib.figure.Figure at 0x7f03ddf132b0>"
      ]
     },
     "metadata": {},
     "output_type": "display_data"
    }
   ],
   "source": [
    "import subprocess\n",
    "import matplotlib.pyplot as plt\n",
    "%matplotlib inline  \n",
    "\n",
    "def plot_ndcg(lm_name, lm_fn, lambda_values):\n",
    "    \n",
    "    # NDCG@10 versus Hyperparameters\n",
    "    retrieval_models = {}\n",
    "    for l in lambda_values:\n",
    "        rm_name = \"{0}_ndcg_{1}\".format(lm_name, l)\n",
    "        rm_fn = lambda x,y,l=l : lm_fn(x, y, l)\n",
    "        retrieval_models[rm_name] = rm_fn\n",
    "\n",
    "    clean_evaluation_results(retrieval_models, output_dirs=[\"ndcg\"])\n",
    "    generate_evaluation_results(retrieval_models, './ap_88_89/qrel_validation', \"ndcg\")\n",
    "\n",
    "    ndcg10_values = []\n",
    "    for mname in retrieval_models.keys():\n",
    "        grep_result = subprocess.run(['grep', '-E', '^ndcg_cut_10(\\s)*all', 'ndcg/{0}.txt'.format(mname)], stdout=subprocess.PIPE)\n",
    "        ndcg10_all = float(grep_result.stdout.split()[2])\n",
    "        ndcg10_values.append(ndcg10_all)\n",
    "\n",
    "    plt.plot(lambda_values, ndcg10_values)\n",
    "    plt.show()\n",
    "\n",
    "plot_ndcg('jm', jelinek_mercer, [ l/10. for l in range(0, 22, 2)])\n",
    "plot_ndcg('abs', absolute_discounting, [ l/10. for l in range(0, 22, 2)])\n",
    "plot_ndcg('dir', dirichlet_prior, [ l*100 for l in range(0, 22, 2)])"
   ]
  },
  {
   "cell_type": "code",
   "execution_count": 31,
   "metadata": {
    "collapsed": false,
    "scrolled": false
   },
   "outputs": [
    {
     "name": "stdout",
     "output_type": "stream",
     "text": [
      "\n",
      "\n",
      "\n"
     ]
    }
   ],
   "source": [
    "# use these for tuning hyper parameters\n",
    "fpath_qrel_val = './ap_88_89/qrel_validation'\n",
    "output_dir_val = \"results_val\"\n",
    "\n",
    "retrieval_models = { \n",
    "    \n",
    "    # Jelinek-Mercer\n",
    "    'jm_0.1' : lambda x,y : jelinek_mercer(x, y, lambda_ = 0.1),\n",
    "    'jm_0.5' : lambda x,y : jelinek_mercer(x, y, lambda_ = 0.5),\n",
    "    'jm_0.9' : lambda x,y : jelinek_mercer(x, y, lambda_ = 0.9),\n",
    "\n",
    "    # Dirichlet prior\n",
    "    'dir_500'  : lambda x,y : dirichlet_prior(x, y, mu = 500),\n",
    "    'dir_1000' : lambda x,y : dirichlet_prior(x, y, mu = 1000),\n",
    "    'dir_1500' : lambda x,y : dirichlet_prior(x, y, mu = 1500),\n",
    "    \n",
    "    # absolute discounting\n",
    "    'abs_0.1' : lambda x,y : absolute_discounting(x, y, delta = 0.1),\n",
    "    'abs_0.5' : lambda x,y : absolute_discounting(x, y, delta = 0.5),\n",
    "    'abs_0.9' : lambda x,y : absolute_discounting(x, y, delta = 0.9)\n",
    "}\n",
    "\n",
    "metrics = [ 'map_cut_1000', 'ndcg_cut_10', 'P_5', 'recall_1000' ]\n",
    "output_dir_test = 'results_test'\n",
    "\n",
    "clean_evaluation_results(retrieval_models, output_dirs=[output_dir_test])\n",
    "\n",
    "generate_evaluation_results(retrieval_models, fpath_qrel_test, output_dir_test)  \n",
    "\n",
    "result_dir = \"results_eval_lm\"\n",
    "df_results = build_df_results(retrieval_models, metrics, output_dir_test)\n",
    "df_results, df_means, df_pvalues = analyze_evaluation_results(df_results, print_df=True, result_dir = result_dir)\n"
   ]
  },
  {
   "cell_type": "code",
   "execution_count": 35,
   "metadata": {
    "collapsed": false
   },
   "outputs": [],
   "source": [
    "# use these for tuning hyper parameters\n",
    "fpath_qrel_val = './ap_88_89/qrel_validation'\n",
    "output_dir_val = \"results_val\"\n",
    "\n",
    "# build dict with retrieval functions\n",
    "# for all combinations of kernel functions\n",
    "# and mu hyper parameters in { 500, 1000, 1500 }\n",
    "retrieval_models = { }\n",
    "\n",
    "kernels = {\n",
    "    \"gaussian\" : gaussian_kernel, \n",
    "    \"circle\"   : circle_kernel, \n",
    "    \"triangle\" : triangle_kernel, \n",
    "    \"passage\"  : passage_kernel, \n",
    "    \"cosine\"   : cosine_kernel\n",
    "}\n",
    "\n",
    "def add_plm_models(kname, fn_k, mu_values):\n",
    "    zi_cache = {} # can be shared by models with the same kernel (but different mu)\n",
    "    for mu in mu_values: # loop over mu values\n",
    "        retrieval_models[\"plm_{}_{}\".format(kname, mu)] = lambda x,y: positional_language_model(\n",
    "            x, y, inverted_index_positions, fn_k, zi_cache)\n",
    "\n",
    "for kname, fn_k in kernels.items(): # loop over kernel functions\n",
    "    add_plm_models(kname, fn_k, [ 500, 1000, 1500 ])\n",
    "    \n",
    "\n",
    "metrics = [ 'map_cut_1000', 'ndcg_cut_10', 'P_5', 'recall_1000' ]\n",
    "\n",
    "clean_evaluation_results(retrieval_models, output_dirs=[output_dir_test])\n",
    "\n",
    "generate_evaluation_results(retrieval_models, fpath_qrel_test, output_dir_test)  \n",
    "\n",
    "result_dir = \"results_eval_plm\"\n",
    "df_results = build_df_results(retrieval_models, metrics, output_dir_test)\n",
    "df_results, df_means, df_pvalues = analyze_evaluation_results(df_results, print_df=True, result_dir = result_dir)"
   ]
  },
  {
   "cell_type": "code",
   "execution_count": 38,
   "metadata": {
    "collapsed": false
   },
   "outputs": [],
   "source": [
    "# use these for camparison of metrics\n",
    "fpath_qrel_test = './ap_88_89/qrel_test'\n",
    "output_dir_test = \"results_test\"\n",
    "\n",
    "cache_zi_gaussian_50 = {}\n",
    "retrieval_models = { \n",
    "    'tfidf' : tfidf, \n",
    "    'BM25': BM25,\n",
    "    'jm_0.9' : lambda x,y : jelinek_mercer(x, y, 0.9),\n",
    "    'dir_1500' : lambda x,y : dirichlet_prior(x, y, 1500), \n",
    "    'abs_0.1' : lambda x,y : absolute_discounting(x, y, 0.5),\n",
    "#     'plm_gaussian_x' : lambda x,y :positional_language_model(x,y, inverted_index_positions, gaussian_kernel, cache_zi_gaussian_50)\n",
    "}\n",
    "\n",
    "metrics = [ 'map_cut_1000', 'ndcg_cut_10', 'P_5', 'recall_1000' ]\n",
    "\n",
    "clean_evaluation_results(retrieval_models, output_dirs=[output_dir_test])\n",
    "\n",
    "generate_evaluation_results(retrieval_models, fpath_qrel_test, output_dir_test)  \n",
    "\n",
    "result_dir = \"results_eval_test\"\n",
    "df_results = build_df_results(retrieval_models, metrics, output_dir_test)\n",
    "df_results, df_means, df_pvalues = analyze_evaluation_results(df_results, print_df=True, result_dir = result_dir)\n"
   ]
  },
  {
   "cell_type": "markdown",
   "metadata": {},
   "source": [
    "### Task 2: Latent Semantic Models (LSMs) [15 points] ###\n",
    "\n",
    "In this task you will experiment with applying distributional semantics methods ([LSI](http://lsa3.colorado.edu/papers/JASIS.lsi.90.pdf) **[5 points]** and [LDA](https://www.cs.princeton.edu/~blei/papers/BleiNgJordan2003.pdf) **[5 points]**) for retrieval.\n",
    "\n",
    "You do not need to implement LSI or LDA on your own. Instead, you can use [gensim](http://radimrehurek.com/gensim/index.html). An example on how to integrate Pyndri with Gensim for word2vec can be found [here](https://github.com/cvangysel/pyndri/blob/master/examples/word2vec.py). For the remaining latent vector space models, you will need to implement connector classes (such as `IndriSentences`) by yourself.\n",
    "\n",
    "In order to use a latent semantic model for retrieval, you need to:\n",
    "   * build a representation of the query **q**,\n",
    "   * build a representation of the document **d**,\n",
    "   * calculate the similarity between **q** and **d** (e.g., cosine similarity, KL-divergence).\n",
    "     \n",
    "The exact implementation here depends on the latent semantic model you are using. \n",
    "   \n",
    "Each of these LSMs come with various hyperparameters to tune. Make a choice on the parameters, and explicitly mention the reasons that led you to these decisions. You can use the validation set to optimize hyper parameters you see fit; motivate your decisions. In addition, mention clearly how the query/document representations were constructed for each LSM and explain your choices.\n",
    "\n",
    "In this experiment, you will first obtain an initial top-1000 ranking for each query using TF-IDF in **Task 1**, and then re-rank the documents using the LSMs. Use TREC Eval to obtain the results and report on `NDCG@10`, Mean Average Precision (`MAP@1000`), `Precision@5` and `Recall@1000`.\n",
    "\n",
    "Perform significance testing **[5 points]** (similar as in Task 1) in the class of semantic matching methods."
   ]
  },
  {
   "cell_type": "code",
   "execution_count": 39,
   "metadata": {
    "collapsed": true
   },
   "outputs": [],
   "source": [
    "import logging, gensim, bz2\n",
    "from gensim.corpora.mmcorpus import MmCorpus\n",
    "from gensim.corpora.lowcorpus import LowCorpus\n",
    "from gensim.corpora.dictionary import Dictionary\n",
    "from gensim.models.lsimodel import LsiModel\n",
    "from gensim.models.ldamodel import LdaModel\n",
    "from gensim import corpora\n",
    "from collections import defaultdict\n",
    "from pprint import pprint\n",
    "from six import iteritems\n",
    "from pyndri import compat\n",
    "\n",
    "logging.basicConfig(format='%(asctime)s : %(levelname)s : %(message)s', level=logging.INFO)"
   ]
  },
  {
   "cell_type": "code",
   "execution_count": 40,
   "metadata": {
    "collapsed": false
   },
   "outputs": [
    {
     "data": {
      "text/plain": [
       "\"\\ndictionary_obj = Dictionary()\\ndictionary_obj.token2id = token2id\\ndictionary_obj.id2token = id2token\\n\\n# example\\ndictionary_obj.doc2idx(document=['human', 'computer', 'interface'], unknown_word_index=-1)\\nprint(dictionary_obj)\\n\""
      ]
     },
     "execution_count": 40,
     "metadata": {},
     "output_type": "execute_result"
    }
   ],
   "source": [
    "'''\n",
    "dictionary_obj = Dictionary()\n",
    "dictionary_obj.token2id = token2id\n",
    "dictionary_obj.id2token = id2token\n",
    "\n",
    "# example\n",
    "dictionary_obj.doc2idx(document=['human', 'computer', 'interface'], unknown_word_index=-1)\n",
    "print(dictionary_obj)\n",
    "'''"
   ]
  },
  {
   "cell_type": "code",
   "execution_count": 41,
   "metadata": {
    "collapsed": true
   },
   "outputs": [],
   "source": [
    "def create_corpus():\n",
    "    '''\n",
    "    Create a corpus that contains sparse vectors of each document.\n",
    "    '''\n",
    "    corpus = []\n",
    "    for int_doc_id in range(index.document_base(), index.maximum_document()):\n",
    "        ext_doc_id, doc_token_ids = index.document(int_doc_id)\n",
    "    \n",
    "        document_bow = collections.Counter(\n",
    "            token_id for token_id in doc_token_ids\n",
    "            if token_id > 0)\n",
    "    \n",
    "        sparse_vector = []\n",
    "        for token_id, token_occ in document_bow.items():\n",
    "            sparse_vector.append((token_id, token_occ))\n",
    "        corpus.append(sparse_vector)\n",
    "\n",
    "    return corpus\n",
    "\n",
    "corpus = create_corpus()\n",
    "MmCorpus.serialize('/tmp/corpus.mm', corpus) # save for later use"
   ]
  },
  {
   "cell_type": "code",
   "execution_count": 42,
   "metadata": {
    "collapsed": false
   },
   "outputs": [
    {
     "name": "stdout",
     "output_type": "stream",
     "text": [
      "Trained model: LsiModel(num_terms=267319, num_topics=10, decay=1.0, chunksize=20000) \n",
      "\n",
      "Important words per topic: \n",
      " [(0, '-0.296*\"percent\" + -0.200*\"new\" + -0.199*\"1\" + -0.177*\"million\" + -0.144*\"two\" + -0.140*\"000\" + -0.138*\"people\" + -0.135*\"government\" + -0.130*\"president\" + -0.126*\"2\"'), (1, '0.652*\"percent\" + 0.238*\"0\" + 0.215*\"1\" + 0.135*\"2\" + -0.116*\"president\" + -0.114*\"people\" + 0.103*\"3\" + -0.102*\"two\" + 0.099*\"5\" + 0.098*\"million\"'), (2, '0.851*\"y\" + 0.475*\"n\" + 0.119*\"democrats\" + 0.118*\"republicans\" + 0.060*\"x\" + 0.047*\"republican\" + 0.041*\"democrat\" + 0.029*\"smith\" + 0.028*\"percent\" + 0.026*\"d\"')] \n",
      "\n",
      "Embedding for each topic: \n",
      " [[ 3.74419949e-18 -1.99702534e-01 -2.96066463e-01 ... -8.19110070e-07\n",
      "  -9.57845637e-05 -1.23047316e-06]\n",
      " [ 1.04441535e-16 -4.79255748e-02  6.52370620e-01 ... -8.99341196e-07\n",
      "  -4.52282692e-05 -7.61720102e-07]\n",
      " [ 1.68023942e-16 -8.53447137e-03  2.81858330e-02 ... -9.47015961e-08\n",
      "  -6.50392680e-06 -1.31818892e-07]\n",
      " ...\n",
      " [ 1.09524414e-16  4.05040046e-02  2.20918833e-01 ... -7.27962303e-07\n",
      "   9.58417577e-05 -7.42814670e-07]\n",
      " [ 4.24919189e-17  1.99653903e-01  4.33957887e-02 ... -5.74044815e-07\n",
      "  -1.36148459e-04 -4.03464550e-07]\n",
      " [ 8.30531880e-17 -7.39203391e-02  1.44372516e-02 ...  7.77786976e-08\n",
      "  -4.31265070e-05  2.14447507e-07]] \n",
      "\n",
      "15 most relevant words for topic 1: \n",
      " [('percent', -0.2960664627390818), ('new', -0.19970253390015413), ('1', -0.19946953923101104), ('million', -0.1773355298882888), ('two', -0.14382844397646471), ('000', -0.13990715031880818), ('people', -0.1379462483225408), ('government', -0.13525635161437286), ('president', -0.1297081524841846), ('2', -0.12616296220388604), ('years', -0.11986728719497321), ('bush', -0.10564516559336272), ('state', -0.10419425987481146), ('5', -0.09771834269084073), ('states', -0.09717343751750016)] \n",
      "\n"
     ]
    }
   ],
   "source": [
    "# load the corpus\n",
    "corpus = MmCorpus('/tmp/corpus.mm')\n",
    "\n",
    "# train the LSI model (takes >5 minutes)\n",
    "# \"num_topics is the number of requested factors (latent dimensions)\"\n",
    "lsi = LsiModel(corpus=corpus, id2word=id2token, num_topics=10)\n",
    "print(\"Trained model:\", lsi, \"\\n\")\n",
    "\n",
    "# print the most contributing words (both positively and negatively)\n",
    "# for the first 3 topics\n",
    "print(\"Important words per topic: \\n\", lsi.print_topics(3), \"\\n\")\n",
    "\n",
    "# print the embeddings for each topic\n",
    "print(\"Embedding for each topic: \\n\", lsi.get_topics(), \"\\n\")\n",
    "\n",
    "# print the first 15 relevant words for the first topic\n",
    "print(\"15 most relevant words for topic 1: \\n\", \n",
    "      lsi.show_topic(0, topn=15), \"\\n\")"
   ]
  },
  {
   "cell_type": "code",
   "execution_count": 43,
   "metadata": {
    "collapsed": false
   },
   "outputs": [
    {
     "name": "stdout",
     "output_type": "stream",
     "text": [
      "Trained model: LdaModel(num_terms=267319, num_topics=10, decay=0.5, chunksize=2000) \n",
      "\n"
     ]
    }
   ],
   "source": [
    "# load the corpus\n",
    "corpus = MmCorpus('/tmp/corpus.mm')\n",
    "\n",
    "# train the LDA model (takes >5 minutes)\n",
    "lda = LdaModel(corpus, id2word=id2token, num_topics=10)\n",
    "print(\"Trained model:\", lda, \"\\n\")"
   ]
  },
  {
   "cell_type": "markdown",
   "metadata": {},
   "source": [
    "### Task 3:  Word embeddings for ranking [20 points] (open-ended) ###\n",
    "\n",
    "First create word embeddings on the corpus we provided using [word2vec](http://arxiv.org/abs/1411.2738) -- [gensim implementation](https://radimrehurek.com/gensim/models/word2vec.html). You should extract the indexed documents using pyndri and provide them to gensim for training a model (see example [here](https://github.com/nickvosk/pyndri/blob/master/examples/word2vec.py)).\n",
    "   \n",
    "This is an open-ended task. It is left up you to decide how you will combine word embeddings to derive query and document representations. Note that since we provide the implementation for training word2vec, you will be graded based on your creativity on combining word embeddings for building query and document representations.\n",
    "\n",
    "Note: If you want to experiment with pre-trained word embeddings on a different corpus, you can use the word embeddings we provide alongside the assignment (./data/reduced_vectors_google.txt.tar.gz). These are the [google word2vec word embeddings](https://code.google.com/archive/p/word2vec/), reduced to only the words that appear in the document collection we use in this assignment."
   ]
  },
  {
   "cell_type": "code",
   "execution_count": 44,
   "metadata": {
    "collapsed": true
   },
   "outputs": [],
   "source": [
    "import gensim\n",
    "from pyndri import compat\n",
    "import copy\n",
    "\n",
    "def word2vec(epochs = 1):\n",
    "    \n",
    "    word2vec_init = gensim.models.Word2Vec(\n",
    "        size=300,    # Embedding size\n",
    "        window=5,    # One-sided window size\n",
    "        sg=True,     # Skip-gram.\n",
    "        min_count=5, # Minimum word frequency.\n",
    "        sample=1e-3, # Sub-sample threshold.\n",
    "        hs=False,    # Hierarchical softmax.\n",
    "        negative=10, # Number of negative examples.\n",
    "        iter=1,      # Number of iterations.\n",
    "        workers=8,   # Number of workers.\n",
    "    )\n",
    "\n",
    "    with pyndri.open('./index') as index:\n",
    "        dictionary = pyndri.extract_dictionary(index)\n",
    "        sentences = compat.IndriSentences(index, dictionary)\n",
    "\n",
    "        # Build vocab\n",
    "        word2vec_init.build_vocab(sentences, trim_rule=None)\n",
    "\n",
    "        model = copy.deepcopy(word2vec_init)\n",
    "        model.train(sentences, total_examples = model.corpus_count, epochs = epochs)\n",
    "\n",
    "        return model\n",
    "    \n",
    "# word_vectors = word2vec(epochs = 5)"
   ]
  },
  {
   "cell_type": "code",
   "execution_count": 45,
   "metadata": {
    "collapsed": true
   },
   "outputs": [],
   "source": [
    "fname = 'word_vectors'\n",
    "\n",
    "# Use to save model\n",
    "# word_vectors.save(fname) \n",
    "\n",
    "# Use to load model\n",
    "word_vectors = gensim.models.Word2Vec.load(fname)"
   ]
  },
  {
   "cell_type": "code",
   "execution_count": 46,
   "metadata": {
    "collapsed": true
   },
   "outputs": [],
   "source": [
    "# Give a word vector\n",
    "# word_vectors.wv['computer']"
   ]
  },
  {
   "cell_type": "code",
   "execution_count": 47,
   "metadata": {
    "collapsed": true
   },
   "outputs": [],
   "source": [
    "def query2tokens(query):\n",
    "    return [token for token in index.tokenize(query) if len(token) > 0]\n",
    "\n",
    "def doc2tokens(doc_id):\n",
    "    return [id2token[word_id] for word_id in index.document(doc_id)[1] if word_id > 0]"
   ]
  },
  {
   "cell_type": "code",
   "execution_count": 48,
   "metadata": {
    "collapsed": true
   },
   "outputs": [],
   "source": [
    "def avg_weighted_vector(tokens):\n",
    "    tokens = [token for token in tokens if token in word_vectors.wv.vocab] # Only words that exist in vocabulary\n",
    "    tokens2vectors = word_vectors.wv[tokens]\n",
    "    \n",
    "    weighted_vectors = []\n",
    "    \n",
    "    for token, id_token in zip(tokens, [token2id.get(token,0) for token in tokens]):\n",
    "        corpus_term_freq = total_corpus_term_freqs[id_token]\n",
    "        word_vec = word_vectors.wv[token]\n",
    "        \n",
    "        weighted_vectors.append(word_vec / corpus_term_freq)\n",
    "        \n",
    "    return np.mean(weighted_vectors, axis=0)"
   ]
  },
  {
   "cell_type": "code",
   "execution_count": 49,
   "metadata": {
    "collapsed": true,
    "scrolled": true
   },
   "outputs": [],
   "source": [
    "query = 'apple fruit'\n",
    "query_vector = avg_weighted_vector(query2tokens(query))"
   ]
  },
  {
   "cell_type": "code",
   "execution_count": 50,
   "metadata": {
    "collapsed": false
   },
   "outputs": [
    {
     "data": {
      "text/plain": [
       "[('apple', 0.8934484720230103),\n",
       " ('fruit', 0.8034375905990601),\n",
       " ('apples', 0.7305825352668762),\n",
       " ('applesauce', 0.6902138590812683),\n",
       " ('juice', 0.6331959962844849),\n",
       " ('growers', 0.6291981935501099),\n",
       " ('peaches', 0.6198462843894958),\n",
       " ('grapefruit', 0.6188129186630249),\n",
       " ('alar', 0.6169579029083252),\n",
       " ('crispness', 0.6138562560081482)]"
      ]
     },
     "execution_count": 50,
     "metadata": {},
     "output_type": "execute_result"
    }
   ],
   "source": [
    "word_vectors.wv.similar_by_vector(query_vector)"
   ]
  },
  {
   "cell_type": "code",
   "execution_count": 51,
   "metadata": {
    "collapsed": true
   },
   "outputs": [],
   "source": [
    "doc_id = 512\n",
    "doc_vector = avg_weighted_vector(doc2tokens(doc_id))"
   ]
  },
  {
   "cell_type": "code",
   "execution_count": 52,
   "metadata": {
    "collapsed": false
   },
   "outputs": [
    {
     "data": {
      "text/plain": [
       "[('samsung', 0.8832930326461792),\n",
       " ('88000', 0.845930814743042),\n",
       " ('epson', 0.8340654373168945),\n",
       " ('sparc', 0.8279563188552856),\n",
       " ('sparcstation', 0.8214341402053833),\n",
       " ('hitachis', 0.814057469367981),\n",
       " ('8088', 0.810924768447876),\n",
       " ('68030', 0.804793119430542),\n",
       " ('4381', 0.8000460863113403),\n",
       " ('3com', 0.792823851108551)]"
      ]
     },
     "execution_count": 52,
     "metadata": {},
     "output_type": "execute_result"
    }
   ],
   "source": [
    "word_vectors.wv.similar_by_vector(doc_vector)"
   ]
  },
  {
   "cell_type": "code",
   "execution_count": 53,
   "metadata": {
    "collapsed": true
   },
   "outputs": [],
   "source": [
    "# Cosine similarity\n",
    "def cos_sim(a, b):\n",
    "    dot_product = np.dot(a, b)\n",
    "    norm_a = np.linalg.norm(a)\n",
    "    norm_b = np.linalg.norm(b)\n",
    "    return dot_product / (norm_a * norm_b)"
   ]
  },
  {
   "cell_type": "code",
   "execution_count": 54,
   "metadata": {
    "collapsed": true
   },
   "outputs": [],
   "source": [
    "def query_doc_sim(query_tokens, doc_tokens):\n",
    "    return cos_sim(avg_weighted_vector(query_tokens), avg_weighted_vector(doc_tokens))"
   ]
  },
  {
   "cell_type": "code",
   "execution_count": 55,
   "metadata": {
    "collapsed": true
   },
   "outputs": [],
   "source": [
    "def query_docs_sim(query_tokens):\n",
    "    \n",
    "    cos_similarities = []\n",
    "    \n",
    "    for doc_id in range(index.document_base(), 1000): #index.maximum_document()):\n",
    "       \n",
    "        cos_similarities.append(\n",
    "            [doc_id, query_doc_sim(query_tokens, doc2tokens(doc_id))]\n",
    "        )\n",
    "        \n",
    "    cos_similarities = sorted(cos_similarities, key=lambda a_entry: a_entry[1], reverse=True)\n",
    "    return cos_similarities"
   ]
  },
  {
   "cell_type": "code",
   "execution_count": 56,
   "metadata": {
    "collapsed": false
   },
   "outputs": [
    {
     "data": {
      "text/plain": [
       "[[512, 0.5258220781947356],\n",
       " [527, 0.5249745093845148],\n",
       " [880, 0.5026988800990961],\n",
       " [302, 0.46038071867838803],\n",
       " [891, 0.433944784442815],\n",
       " [531, 0.4315441528617264],\n",
       " [31, 0.42869079774732133],\n",
       " [534, 0.4275407737362045],\n",
       " [846, 0.42028709315048574],\n",
       " [245, 0.41909113400596537]]"
      ]
     },
     "execution_count": 56,
     "metadata": {},
     "output_type": "execute_result"
    }
   ],
   "source": [
    "query = 'apple computer'\n",
    "ranking = query_docs_sim(query2tokens(query))[:10]\n",
    "ranking"
   ]
  },
  {
   "cell_type": "code",
   "execution_count": 57,
   "metadata": {
    "collapsed": false
   },
   "outputs": [
    {
     "name": "stdout",
     "output_type": "stream",
     "text": [
      "['hp', 'share', 'technology', 'resell', 'samsung', 'workstations', 'computer', 'manufacturer', 'hewlett', 'packard', 'co', 'signed', 'technology', 'sharing', 'agreement', 'samsung', 'electronics', 'co', 'intends', 'resell', 'low', 'end', 'workstations', 'built', 'south', 'korean', 'company', 'move', 'effort', 'hewlett', 'packard', 'capture', 'burgeoning', 'worldwide', 'market', 'workstations', 'high', 'performance', 'desktop', 'computers', 'priced', '5', '000', '100', '000', 'sharing', 'technology', 'development', 'called', 'reduced', 'instruction', 'set', 'computer', 'semiconductor', 'chips', 'hewlett', 'packard', 'gain', 'competitive', 'edge', 'rival', 'manufacturers', 'trying', 'win', 'acceptance', 'risc', 'based', 'chips', 'hewlett', 'packard', 'expected', 'devote', 'manufacturing', 'resources', 'high', 'margin', 'workstations', 'products', 'andrew', 'allison', 'writer', 'follows', 'workstation', 'market', 'expected', 'reach', '20', 'billion', 'annually', '1992', 'samsung', 'credible', 'low', 'cost', 'alternative', 'hp', 'hewlett', 'packard', 'rarely', 'resold', 'computers', 'built', 'move', 'indicates', 'serious', 'hp', 'fighting', 'share', 'workstation', 'market', 'allison', 'two', 'weeks', 'ago', 'hewlett', 'packard', 'announced', 'agreement', 'share', 'computer', 'technology', 'deal', 'hitachi', 'japan', 'two', 'develop', 'super', 'fast', 'computer', 'chips', 'computers', 'manufactured', 'companies', 'hewlett', 'packard', 'bought', 'apollo', 'computer', 'time', 'second', 'largest', 'maker', 'technical', 'workstations', 'samsung', 'electronics', 'division', 'south', 'koreas', 'samsung', 'group', 'manufacturers', 'semiconductor', 'chips', 'computers', 'samsungs', 'computers', 'expected', '12', '000', 'range', 'sun', 'microsystems', 'mountain', 'view', 'major', 'competitor', 'hewlett', 'packard', 'risc', 'chip', 'computer', 'market', 'hewlett', 'packard', 'plans', 'share', 'advanced', 'chip', 'making', 'techniques', 'samsung', 'version', 'unix', 'operating', 'system', 'samsung', 'right', 'independently', 'market', 'products', 'based', 'technologies']\n"
     ]
    }
   ],
   "source": [
    "print(doc2tokens(ranking[0][0]))"
   ]
  },
  {
   "cell_type": "markdown",
   "metadata": {},
   "source": [
    "### Task 4: Learning to rank (LTR) [15 points] (open-ended) ###\n",
    "\n",
    "In this task you will get an introduction into learning to rank for information retrieval.\n",
    "\n",
    "You can explore different ways for devising features for the model. Obviously, you can use the retrieval methods you implemented in Task 1, Task 2 and Task 3 as features. Think about other features you can use (e.g. query/document length). Creativity on devising new features and providing motivation for them will be taken into account when grading.\n",
    "\n",
    "For every query, first create a document candidate set using the top-1000 documents using TF-IDF, and subsequently compute features given a query and a document. Note that the feature values of different retrieval methods are likely to be distributed differently.\n",
    "\n",
    "You are adviced to start some pointwise learning to rank algorithm e.g. logistic regression, implemented in [scikit-learn](http://scikit-learn.org/stable/modules/generated/sklearn.linear_model.LogisticRegression.html).\n",
    "Train your LTR model using 10-fold cross validation on the test set. More advanced learning to rank algorithms will be appreciated when grading."
   ]
  },
  {
   "cell_type": "code",
   "execution_count": null,
   "metadata": {
    "collapsed": true
   },
   "outputs": [],
   "source": []
  },
  {
   "cell_type": "markdown",
   "metadata": {
    "collapsed": true
   },
   "source": [
    "### Task 4: Write a report [15 points; instant FAIL if not provided] ###\n",
    "\n",
    "The report should be a PDF file created using the [sigconf ACM template](https://www.acm.org/publications/proceedings-template) and will determine a significant part of your grade.\n",
    "\n",
    "   * It should explain what you have implemented, motivate your experiments and detail what you expect to learn from them. **[10 points]**\n",
    "   * Lastly, provide a convincing analysis of your results and conclude the report accordingly. **[10 points]**\n",
    "      * Do all methods perform similarly on all queries? Why?\n",
    "      * Is there a single retrieval model that outperforms all other retrieval models (i.e., silver bullet)?\n",
    "      * ...\n",
    "\n",
    "**Hand in the report and your self-contained implementation source files.** Only send us the files that matter, organized in a well-documented zip/tgz file with clear instructions on how to reproduce your results. That is, we want to be able to regenerate all your results with minimal effort. You can assume that the index and ground-truth information is present in the same file structure as the one we have provided.\n"
   ]
  },
  {
   "cell_type": "code",
   "execution_count": null,
   "metadata": {
    "collapsed": true
   },
   "outputs": [],
   "source": []
  }
 ],
 "metadata": {
  "anaconda-cloud": {},
  "kernelspec": {
   "display_name": "Python 3",
   "language": "python",
   "name": "python3"
  },
  "language_info": {
   "codemirror_mode": {
    "name": "ipython",
    "version": 3
   },
   "file_extension": ".py",
   "mimetype": "text/x-python",
   "name": "python",
   "nbconvert_exporter": "python",
   "pygments_lexer": "ipython3",
   "version": "3.5.4"
  }
 },
 "nbformat": 4,
 "nbformat_minor": 1
}
